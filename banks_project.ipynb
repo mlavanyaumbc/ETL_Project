{
  "nbformat": 4,
  "nbformat_minor": 0,
  "metadata": {
    "colab": {
      "provenance": []
    },
    "kernelspec": {
      "name": "python3",
      "display_name": "Python 3"
    },
    "language_info": {
      "name": "python"
    }
  },
  "cells": [
    {
      "cell_type": "markdown",
      "source": [
        "## ETL Project for Top 10 Largest Banks by Market Capitalization"
      ],
      "metadata": {
        "id": "kxpSjtPKXjN-"
      }
    },
    {
      "cell_type": "code",
      "execution_count": 1,
      "metadata": {
        "colab": {
          "base_uri": "https://localhost:8080/"
        },
        "id": "Wiqw9Dxx1vRE",
        "outputId": "d2782155-e134-4cb0-e2bd-d396d0b4c5ff"
      },
      "outputs": [
        {
          "output_type": "stream",
          "name": "stdout",
          "text": [
            "Requirement already satisfied: pandas in /usr/local/lib/python3.10/dist-packages (2.2.2)\n",
            "Requirement already satisfied: numpy>=1.22.4 in /usr/local/lib/python3.10/dist-packages (from pandas) (1.26.4)\n",
            "Requirement already satisfied: python-dateutil>=2.8.2 in /usr/local/lib/python3.10/dist-packages (from pandas) (2.8.2)\n",
            "Requirement already satisfied: pytz>=2020.1 in /usr/local/lib/python3.10/dist-packages (from pandas) (2024.2)\n",
            "Requirement already satisfied: tzdata>=2022.7 in /usr/local/lib/python3.10/dist-packages (from pandas) (2024.2)\n",
            "Requirement already satisfied: six>=1.5 in /usr/local/lib/python3.10/dist-packages (from python-dateutil>=2.8.2->pandas) (1.16.0)\n",
            "Requirement already satisfied: numpy in /usr/local/lib/python3.10/dist-packages (1.26.4)\n",
            "Requirement already satisfied: bs4 in /usr/local/lib/python3.10/dist-packages (0.0.2)\n",
            "Requirement already satisfied: beautifulsoup4 in /usr/local/lib/python3.10/dist-packages (from bs4) (4.12.3)\n",
            "Requirement already satisfied: soupsieve>1.2 in /usr/local/lib/python3.10/dist-packages (from beautifulsoup4->bs4) (2.6)\n"
          ]
        }
      ],
      "source": [
        "!pip install pandas\n",
        "!pip install numpy\n",
        "!pip install bs4"
      ]
    },
    {
      "cell_type": "code",
      "source": [
        "# imported required packages\n",
        "import requests\n",
        "import sqlite3\n",
        "import pandas as pd\n",
        "from bs4 import BeautifulSoup"
      ],
      "metadata": {
        "id": "x6dTL9Wc6W-q"
      },
      "execution_count": 2,
      "outputs": []
    },
    {
      "cell_type": "markdown",
      "source": [
        "## Successfully downloaded exchange_rate.csv file"
      ],
      "metadata": {
        "id": "4w208ikJK9Vt"
      }
    },
    {
      "cell_type": "code",
      "source": [
        "url = \"https://cf-courses-data.s3.us.cloud-object-storage.appdomain.cloud/IBMSkillsNetwork-PY0221EN-Coursera/labs/v2/exchange_rate.csv\"\n",
        "file_name = \"exchange_rate.csv\"\n",
        "\n",
        "# Send a GET request to the URL\n",
        "response = requests.get(url)\n",
        "\n",
        "# Check if the request was successful\n",
        "if response.status_code == 200:\n",
        "    # Open the file in write-binary mode and save the content\n",
        "    with open(file_name, 'wb') as file:\n",
        "        file.write(response.content)\n",
        "    print(f\"'{file_name}' has been downloaded successfully.\")\n",
        "else:\n",
        "    print(f\"Failed to download the file. Status code: {response.status_code}\")\n"
      ],
      "metadata": {
        "colab": {
          "base_uri": "https://localhost:8080/"
        },
        "id": "e99CJZZd-4MR",
        "outputId": "2b965d39-79c4-4540-d207-168a44fa9782"
      },
      "execution_count": 3,
      "outputs": [
        {
          "output_type": "stream",
          "name": "stdout",
          "text": [
            "'exchange_rate.csv' has been downloaded successfully.\n"
          ]
        }
      ]
    },
    {
      "cell_type": "markdown",
      "source": [
        "## Task 1: Logging function"
      ],
      "metadata": {
        "id": "FTy7HY7cKs8b"
      }
    },
    {
      "cell_type": "code",
      "source": [
        "import datetime\n",
        "\n",
        "def log_progress(message):\n",
        "    # Get the current timestamp\n",
        "    time_stamp = datetime.datetime.now().strftime(\"%Y-%m-%d %H:%M:%S\")\n",
        "\n",
        "    # Format the log message\n",
        "    log_message = f\"{time_stamp} : {message}\\n\"\n",
        "\n",
        "    # Append the log message to the file\n",
        "    with open(\"code_log.txt\", \"a\") as log_file:\n",
        "        log_file.write(log_message)\n",
        "\n",
        "# Example of logging based on the tasks\n",
        "log_progress(\"Preliminaries complete. Initiating ETL process\")\n",
        "# Later in your ETL code, you would log other messages at appropriate places\n"
      ],
      "metadata": {
        "id": "HmmZ_2mc5pE-"
      },
      "execution_count": 4,
      "outputs": []
    },
    {
      "cell_type": "markdown",
      "source": [
        "## Task 2 : Extraction of data"
      ],
      "metadata": {
        "id": "lQ2cYNJvKaRL"
      }
    },
    {
      "cell_type": "code",
      "source": [
        "def log_progress(message):\n",
        "    time_stamp = datetime.datetime.now().strftime(\"%Y-%m-%d %H:%M:%S\")\n",
        "    log_message = f\"{time_stamp} : {message}\\n\"\n",
        "    with open(\"code_log.txt\", \"a\") as log_file:\n",
        "        log_file.write(log_message)\n",
        "\n",
        "def extract():\n",
        "    # URL of the webpage\n",
        "    url = \"https://web.archive.org/web/20230908091635/https://en.wikipedia.org/wiki/List_of_largest_banks\"\n",
        "\n",
        "    # Send a request to fetch the HTML content\n",
        "    response = requests.get(url)\n",
        "\n",
        "    # Parse the HTML content using BeautifulSoup\n",
        "    soup = BeautifulSoup(response.content, 'html.parser')\n",
        "\n",
        "    # Find the table under the heading \"By market capitalization\"\n",
        "    table = soup.find('table', {'class': 'wikitable'})  # Adjust the selector as necessary\n",
        "\n",
        "    # Initialize a list to hold the rows of the DataFrame\n",
        "    data = []\n",
        "\n",
        "    # Loop through the rows of the table\n",
        "    for row in table.find_all('tr')[1:]:  # Skip the header row\n",
        "        cols = row.find_all('td')\n",
        "        if cols:\n",
        "            # Extract data, remove unwanted characters and convert to float if necessary\n",
        "            rank = int(cols[0].text.strip())\n",
        "            name = cols[1].text.strip()\n",
        "            market_cap = float(cols[2].text.strip().replace('\\n', ''))  # Remove new line\n",
        "            data.append([rank, name, market_cap])\n",
        "\n",
        "    # Create a DataFrame from the data\n",
        "    df = pd.DataFrame(data, columns=['Rank', 'Bank Name', 'Market Cap'])\n",
        "\n",
        "    # Log the completion of the extraction process\n",
        "    log_progress(\"Data extraction complete. Initiating Transformation process\")\n",
        "\n",
        "    return df\n",
        "\n",
        "# Function call for extract() and print the DataFrame\n",
        "df_banks = extract()\n",
        "print(df_banks)"
      ],
      "metadata": {
        "colab": {
          "base_uri": "https://localhost:8080/"
        },
        "id": "DW5qyxaJ5jQM",
        "outputId": "884e18d8-3ec6-435c-b76e-84d144df1cf1"
      },
      "execution_count": 5,
      "outputs": [
        {
          "output_type": "stream",
          "name": "stdout",
          "text": [
            "   Rank                                Bank Name  Market Cap\n",
            "0     1                           JPMorgan Chase      432.92\n",
            "1     2                          Bank of America      231.52\n",
            "2     3  Industrial and Commercial Bank of China      194.56\n",
            "3     4               Agricultural Bank of China      160.68\n",
            "4     5                                HDFC Bank      157.91\n",
            "5     6                              Wells Fargo      155.87\n",
            "6     7                        HSBC Holdings PLC      148.90\n",
            "7     8                           Morgan Stanley      140.83\n",
            "8     9                  China Construction Bank      139.82\n",
            "9    10                            Bank of China      136.81\n"
          ]
        }
      ]
    },
    {
      "cell_type": "markdown",
      "source": [
        "## Task 3 : Transformation of data"
      ],
      "metadata": {
        "id": "CFM4NfqtKX4r"
      }
    },
    {
      "cell_type": "code",
      "source": [
        "import pandas as pd\n",
        "import numpy as np\n",
        "\n",
        "def log_progress(message):\n",
        "    time_stamp = datetime.datetime.now().strftime(\"%Y-%m-%d %H:%M:%S\")\n",
        "    log_message = f\"{time_stamp} : {message}\\n\"\n",
        "    with open(\"code_log.txt\", \"a\") as log_file:\n",
        "        log_file.write(log_message)\n",
        "\n",
        "def transform(df):\n",
        "    # Read the exchange rate CSV file into a DataFrame\n",
        "    exchange_rates = pd.read_csv('/content/exchange_rate.csv')\n",
        "\n",
        "    # Convert the contents to a dictionary\n",
        "    exchange_rate_dict = dict(zip(exchange_rates.iloc[:, 0], exchange_rates.iloc[:, 1]))\n",
        "\n",
        "    # Adding new columns to the DataFrame based on exchange rates\n",
        "    df['MC_GBP_Billion'] = [np.round(x * exchange_rate_dict['GBP'], 2) for x in df['Market Cap']]\n",
        "    df['MC_EUR_Billion'] = [np.round(x * exchange_rate_dict['EUR'], 2) for x in df['Market Cap']]\n",
        "    df['MC_INR_Billion'] = [np.round(x * exchange_rate_dict['INR'], 2) for x in df['Market Cap']]\n",
        "\n",
        "    # Log the completion of the transformation process\n",
        "    log_progress(\"Data transformation complete. Initiating Loading process\")\n",
        "\n",
        "    return df\n",
        "\n",
        "# Function call for transform() and print the DataFrame\n",
        "df_transformed = transform(df_banks)  # assuming df_banks is the DataFrame from the extract function\n",
        "# print(df_transformed)  # Commented out as per the instructions\n"
      ],
      "metadata": {
        "id": "yqCLTsx31vzr"
      },
      "execution_count": 6,
      "outputs": []
    },
    {
      "cell_type": "code",
      "source": [
        "df_transformed"
      ],
      "metadata": {
        "id": "tEMVjOPP1wCW",
        "colab": {
          "base_uri": "https://localhost:8080/",
          "height": 363
        },
        "outputId": "74f1795d-6778-4826-9be8-f63536b2170a"
      },
      "execution_count": 7,
      "outputs": [
        {
          "output_type": "execute_result",
          "data": {
            "text/plain": [
              "   Rank                                Bank Name  Market Cap  MC_GBP_Billion  \\\n",
              "0     1                           JPMorgan Chase      432.92          346.34   \n",
              "1     2                          Bank of America      231.52          185.22   \n",
              "2     3  Industrial and Commercial Bank of China      194.56          155.65   \n",
              "3     4               Agricultural Bank of China      160.68          128.54   \n",
              "4     5                                HDFC Bank      157.91          126.33   \n",
              "5     6                              Wells Fargo      155.87          124.70   \n",
              "6     7                        HSBC Holdings PLC      148.90          119.12   \n",
              "7     8                           Morgan Stanley      140.83          112.66   \n",
              "8     9                  China Construction Bank      139.82          111.86   \n",
              "9    10                            Bank of China      136.81          109.45   \n",
              "\n",
              "   MC_EUR_Billion  MC_INR_Billion  \n",
              "0          402.62        35910.71  \n",
              "1          215.31        19204.58  \n",
              "2          180.94        16138.75  \n",
              "3          149.43        13328.41  \n",
              "4          146.86        13098.63  \n",
              "5          144.96        12929.42  \n",
              "6          138.48        12351.26  \n",
              "7          130.97        11681.85  \n",
              "8          130.03        11598.07  \n",
              "9          127.23        11348.39  "
            ],
            "text/html": [
              "\n",
              "  <div id=\"df-aa353882-744c-4424-8f3a-6e01bfe7c25b\" class=\"colab-df-container\">\n",
              "    <div>\n",
              "<style scoped>\n",
              "    .dataframe tbody tr th:only-of-type {\n",
              "        vertical-align: middle;\n",
              "    }\n",
              "\n",
              "    .dataframe tbody tr th {\n",
              "        vertical-align: top;\n",
              "    }\n",
              "\n",
              "    .dataframe thead th {\n",
              "        text-align: right;\n",
              "    }\n",
              "</style>\n",
              "<table border=\"1\" class=\"dataframe\">\n",
              "  <thead>\n",
              "    <tr style=\"text-align: right;\">\n",
              "      <th></th>\n",
              "      <th>Rank</th>\n",
              "      <th>Bank Name</th>\n",
              "      <th>Market Cap</th>\n",
              "      <th>MC_GBP_Billion</th>\n",
              "      <th>MC_EUR_Billion</th>\n",
              "      <th>MC_INR_Billion</th>\n",
              "    </tr>\n",
              "  </thead>\n",
              "  <tbody>\n",
              "    <tr>\n",
              "      <th>0</th>\n",
              "      <td>1</td>\n",
              "      <td>JPMorgan Chase</td>\n",
              "      <td>432.92</td>\n",
              "      <td>346.34</td>\n",
              "      <td>402.62</td>\n",
              "      <td>35910.71</td>\n",
              "    </tr>\n",
              "    <tr>\n",
              "      <th>1</th>\n",
              "      <td>2</td>\n",
              "      <td>Bank of America</td>\n",
              "      <td>231.52</td>\n",
              "      <td>185.22</td>\n",
              "      <td>215.31</td>\n",
              "      <td>19204.58</td>\n",
              "    </tr>\n",
              "    <tr>\n",
              "      <th>2</th>\n",
              "      <td>3</td>\n",
              "      <td>Industrial and Commercial Bank of China</td>\n",
              "      <td>194.56</td>\n",
              "      <td>155.65</td>\n",
              "      <td>180.94</td>\n",
              "      <td>16138.75</td>\n",
              "    </tr>\n",
              "    <tr>\n",
              "      <th>3</th>\n",
              "      <td>4</td>\n",
              "      <td>Agricultural Bank of China</td>\n",
              "      <td>160.68</td>\n",
              "      <td>128.54</td>\n",
              "      <td>149.43</td>\n",
              "      <td>13328.41</td>\n",
              "    </tr>\n",
              "    <tr>\n",
              "      <th>4</th>\n",
              "      <td>5</td>\n",
              "      <td>HDFC Bank</td>\n",
              "      <td>157.91</td>\n",
              "      <td>126.33</td>\n",
              "      <td>146.86</td>\n",
              "      <td>13098.63</td>\n",
              "    </tr>\n",
              "    <tr>\n",
              "      <th>5</th>\n",
              "      <td>6</td>\n",
              "      <td>Wells Fargo</td>\n",
              "      <td>155.87</td>\n",
              "      <td>124.70</td>\n",
              "      <td>144.96</td>\n",
              "      <td>12929.42</td>\n",
              "    </tr>\n",
              "    <tr>\n",
              "      <th>6</th>\n",
              "      <td>7</td>\n",
              "      <td>HSBC Holdings PLC</td>\n",
              "      <td>148.90</td>\n",
              "      <td>119.12</td>\n",
              "      <td>138.48</td>\n",
              "      <td>12351.26</td>\n",
              "    </tr>\n",
              "    <tr>\n",
              "      <th>7</th>\n",
              "      <td>8</td>\n",
              "      <td>Morgan Stanley</td>\n",
              "      <td>140.83</td>\n",
              "      <td>112.66</td>\n",
              "      <td>130.97</td>\n",
              "      <td>11681.85</td>\n",
              "    </tr>\n",
              "    <tr>\n",
              "      <th>8</th>\n",
              "      <td>9</td>\n",
              "      <td>China Construction Bank</td>\n",
              "      <td>139.82</td>\n",
              "      <td>111.86</td>\n",
              "      <td>130.03</td>\n",
              "      <td>11598.07</td>\n",
              "    </tr>\n",
              "    <tr>\n",
              "      <th>9</th>\n",
              "      <td>10</td>\n",
              "      <td>Bank of China</td>\n",
              "      <td>136.81</td>\n",
              "      <td>109.45</td>\n",
              "      <td>127.23</td>\n",
              "      <td>11348.39</td>\n",
              "    </tr>\n",
              "  </tbody>\n",
              "</table>\n",
              "</div>\n",
              "    <div class=\"colab-df-buttons\">\n",
              "\n",
              "  <div class=\"colab-df-container\">\n",
              "    <button class=\"colab-df-convert\" onclick=\"convertToInteractive('df-aa353882-744c-4424-8f3a-6e01bfe7c25b')\"\n",
              "            title=\"Convert this dataframe to an interactive table.\"\n",
              "            style=\"display:none;\">\n",
              "\n",
              "  <svg xmlns=\"http://www.w3.org/2000/svg\" height=\"24px\" viewBox=\"0 -960 960 960\">\n",
              "    <path d=\"M120-120v-720h720v720H120Zm60-500h600v-160H180v160Zm220 220h160v-160H400v160Zm0 220h160v-160H400v160ZM180-400h160v-160H180v160Zm440 0h160v-160H620v160ZM180-180h160v-160H180v160Zm440 0h160v-160H620v160Z\"/>\n",
              "  </svg>\n",
              "    </button>\n",
              "\n",
              "  <style>\n",
              "    .colab-df-container {\n",
              "      display:flex;\n",
              "      gap: 12px;\n",
              "    }\n",
              "\n",
              "    .colab-df-convert {\n",
              "      background-color: #E8F0FE;\n",
              "      border: none;\n",
              "      border-radius: 50%;\n",
              "      cursor: pointer;\n",
              "      display: none;\n",
              "      fill: #1967D2;\n",
              "      height: 32px;\n",
              "      padding: 0 0 0 0;\n",
              "      width: 32px;\n",
              "    }\n",
              "\n",
              "    .colab-df-convert:hover {\n",
              "      background-color: #E2EBFA;\n",
              "      box-shadow: 0px 1px 2px rgba(60, 64, 67, 0.3), 0px 1px 3px 1px rgba(60, 64, 67, 0.15);\n",
              "      fill: #174EA6;\n",
              "    }\n",
              "\n",
              "    .colab-df-buttons div {\n",
              "      margin-bottom: 4px;\n",
              "    }\n",
              "\n",
              "    [theme=dark] .colab-df-convert {\n",
              "      background-color: #3B4455;\n",
              "      fill: #D2E3FC;\n",
              "    }\n",
              "\n",
              "    [theme=dark] .colab-df-convert:hover {\n",
              "      background-color: #434B5C;\n",
              "      box-shadow: 0px 1px 3px 1px rgba(0, 0, 0, 0.15);\n",
              "      filter: drop-shadow(0px 1px 2px rgba(0, 0, 0, 0.3));\n",
              "      fill: #FFFFFF;\n",
              "    }\n",
              "  </style>\n",
              "\n",
              "    <script>\n",
              "      const buttonEl =\n",
              "        document.querySelector('#df-aa353882-744c-4424-8f3a-6e01bfe7c25b button.colab-df-convert');\n",
              "      buttonEl.style.display =\n",
              "        google.colab.kernel.accessAllowed ? 'block' : 'none';\n",
              "\n",
              "      async function convertToInteractive(key) {\n",
              "        const element = document.querySelector('#df-aa353882-744c-4424-8f3a-6e01bfe7c25b');\n",
              "        const dataTable =\n",
              "          await google.colab.kernel.invokeFunction('convertToInteractive',\n",
              "                                                    [key], {});\n",
              "        if (!dataTable) return;\n",
              "\n",
              "        const docLinkHtml = 'Like what you see? Visit the ' +\n",
              "          '<a target=\"_blank\" href=https://colab.research.google.com/notebooks/data_table.ipynb>data table notebook</a>'\n",
              "          + ' to learn more about interactive tables.';\n",
              "        element.innerHTML = '';\n",
              "        dataTable['output_type'] = 'display_data';\n",
              "        await google.colab.output.renderOutput(dataTable, element);\n",
              "        const docLink = document.createElement('div');\n",
              "        docLink.innerHTML = docLinkHtml;\n",
              "        element.appendChild(docLink);\n",
              "      }\n",
              "    </script>\n",
              "  </div>\n",
              "\n",
              "\n",
              "<div id=\"df-83167b3b-eb99-4186-a23b-9f2dbfeff706\">\n",
              "  <button class=\"colab-df-quickchart\" onclick=\"quickchart('df-83167b3b-eb99-4186-a23b-9f2dbfeff706')\"\n",
              "            title=\"Suggest charts\"\n",
              "            style=\"display:none;\">\n",
              "\n",
              "<svg xmlns=\"http://www.w3.org/2000/svg\" height=\"24px\"viewBox=\"0 0 24 24\"\n",
              "     width=\"24px\">\n",
              "    <g>\n",
              "        <path d=\"M19 3H5c-1.1 0-2 .9-2 2v14c0 1.1.9 2 2 2h14c1.1 0 2-.9 2-2V5c0-1.1-.9-2-2-2zM9 17H7v-7h2v7zm4 0h-2V7h2v10zm4 0h-2v-4h2v4z\"/>\n",
              "    </g>\n",
              "</svg>\n",
              "  </button>\n",
              "\n",
              "<style>\n",
              "  .colab-df-quickchart {\n",
              "      --bg-color: #E8F0FE;\n",
              "      --fill-color: #1967D2;\n",
              "      --hover-bg-color: #E2EBFA;\n",
              "      --hover-fill-color: #174EA6;\n",
              "      --disabled-fill-color: #AAA;\n",
              "      --disabled-bg-color: #DDD;\n",
              "  }\n",
              "\n",
              "  [theme=dark] .colab-df-quickchart {\n",
              "      --bg-color: #3B4455;\n",
              "      --fill-color: #D2E3FC;\n",
              "      --hover-bg-color: #434B5C;\n",
              "      --hover-fill-color: #FFFFFF;\n",
              "      --disabled-bg-color: #3B4455;\n",
              "      --disabled-fill-color: #666;\n",
              "  }\n",
              "\n",
              "  .colab-df-quickchart {\n",
              "    background-color: var(--bg-color);\n",
              "    border: none;\n",
              "    border-radius: 50%;\n",
              "    cursor: pointer;\n",
              "    display: none;\n",
              "    fill: var(--fill-color);\n",
              "    height: 32px;\n",
              "    padding: 0;\n",
              "    width: 32px;\n",
              "  }\n",
              "\n",
              "  .colab-df-quickchart:hover {\n",
              "    background-color: var(--hover-bg-color);\n",
              "    box-shadow: 0 1px 2px rgba(60, 64, 67, 0.3), 0 1px 3px 1px rgba(60, 64, 67, 0.15);\n",
              "    fill: var(--button-hover-fill-color);\n",
              "  }\n",
              "\n",
              "  .colab-df-quickchart-complete:disabled,\n",
              "  .colab-df-quickchart-complete:disabled:hover {\n",
              "    background-color: var(--disabled-bg-color);\n",
              "    fill: var(--disabled-fill-color);\n",
              "    box-shadow: none;\n",
              "  }\n",
              "\n",
              "  .colab-df-spinner {\n",
              "    border: 2px solid var(--fill-color);\n",
              "    border-color: transparent;\n",
              "    border-bottom-color: var(--fill-color);\n",
              "    animation:\n",
              "      spin 1s steps(1) infinite;\n",
              "  }\n",
              "\n",
              "  @keyframes spin {\n",
              "    0% {\n",
              "      border-color: transparent;\n",
              "      border-bottom-color: var(--fill-color);\n",
              "      border-left-color: var(--fill-color);\n",
              "    }\n",
              "    20% {\n",
              "      border-color: transparent;\n",
              "      border-left-color: var(--fill-color);\n",
              "      border-top-color: var(--fill-color);\n",
              "    }\n",
              "    30% {\n",
              "      border-color: transparent;\n",
              "      border-left-color: var(--fill-color);\n",
              "      border-top-color: var(--fill-color);\n",
              "      border-right-color: var(--fill-color);\n",
              "    }\n",
              "    40% {\n",
              "      border-color: transparent;\n",
              "      border-right-color: var(--fill-color);\n",
              "      border-top-color: var(--fill-color);\n",
              "    }\n",
              "    60% {\n",
              "      border-color: transparent;\n",
              "      border-right-color: var(--fill-color);\n",
              "    }\n",
              "    80% {\n",
              "      border-color: transparent;\n",
              "      border-right-color: var(--fill-color);\n",
              "      border-bottom-color: var(--fill-color);\n",
              "    }\n",
              "    90% {\n",
              "      border-color: transparent;\n",
              "      border-bottom-color: var(--fill-color);\n",
              "    }\n",
              "  }\n",
              "</style>\n",
              "\n",
              "  <script>\n",
              "    async function quickchart(key) {\n",
              "      const quickchartButtonEl =\n",
              "        document.querySelector('#' + key + ' button');\n",
              "      quickchartButtonEl.disabled = true;  // To prevent multiple clicks.\n",
              "      quickchartButtonEl.classList.add('colab-df-spinner');\n",
              "      try {\n",
              "        const charts = await google.colab.kernel.invokeFunction(\n",
              "            'suggestCharts', [key], {});\n",
              "      } catch (error) {\n",
              "        console.error('Error during call to suggestCharts:', error);\n",
              "      }\n",
              "      quickchartButtonEl.classList.remove('colab-df-spinner');\n",
              "      quickchartButtonEl.classList.add('colab-df-quickchart-complete');\n",
              "    }\n",
              "    (() => {\n",
              "      let quickchartButtonEl =\n",
              "        document.querySelector('#df-83167b3b-eb99-4186-a23b-9f2dbfeff706 button');\n",
              "      quickchartButtonEl.style.display =\n",
              "        google.colab.kernel.accessAllowed ? 'block' : 'none';\n",
              "    })();\n",
              "  </script>\n",
              "</div>\n",
              "\n",
              "  <div id=\"id_a8c2cc87-0640-4928-a0ee-d7d365b5f432\">\n",
              "    <style>\n",
              "      .colab-df-generate {\n",
              "        background-color: #E8F0FE;\n",
              "        border: none;\n",
              "        border-radius: 50%;\n",
              "        cursor: pointer;\n",
              "        display: none;\n",
              "        fill: #1967D2;\n",
              "        height: 32px;\n",
              "        padding: 0 0 0 0;\n",
              "        width: 32px;\n",
              "      }\n",
              "\n",
              "      .colab-df-generate:hover {\n",
              "        background-color: #E2EBFA;\n",
              "        box-shadow: 0px 1px 2px rgba(60, 64, 67, 0.3), 0px 1px 3px 1px rgba(60, 64, 67, 0.15);\n",
              "        fill: #174EA6;\n",
              "      }\n",
              "\n",
              "      [theme=dark] .colab-df-generate {\n",
              "        background-color: #3B4455;\n",
              "        fill: #D2E3FC;\n",
              "      }\n",
              "\n",
              "      [theme=dark] .colab-df-generate:hover {\n",
              "        background-color: #434B5C;\n",
              "        box-shadow: 0px 1px 3px 1px rgba(0, 0, 0, 0.15);\n",
              "        filter: drop-shadow(0px 1px 2px rgba(0, 0, 0, 0.3));\n",
              "        fill: #FFFFFF;\n",
              "      }\n",
              "    </style>\n",
              "    <button class=\"colab-df-generate\" onclick=\"generateWithVariable('df_banks')\"\n",
              "            title=\"Generate code using this dataframe.\"\n",
              "            style=\"display:none;\">\n",
              "\n",
              "  <svg xmlns=\"http://www.w3.org/2000/svg\" height=\"24px\"viewBox=\"0 0 24 24\"\n",
              "       width=\"24px\">\n",
              "    <path d=\"M7,19H8.4L18.45,9,17,7.55,7,17.6ZM5,21V16.75L18.45,3.32a2,2,0,0,1,2.83,0l1.4,1.43a1.91,1.91,0,0,1,.58,1.4,1.91,1.91,0,0,1-.58,1.4L9.25,21ZM18.45,9,17,7.55Zm-12,3A5.31,5.31,0,0,0,4.9,8.1,5.31,5.31,0,0,0,1,6.5,5.31,5.31,0,0,0,4.9,4.9,5.31,5.31,0,0,0,6.5,1,5.31,5.31,0,0,0,8.1,4.9,5.31,5.31,0,0,0,12,6.5,5.46,5.46,0,0,0,6.5,12Z\"/>\n",
              "  </svg>\n",
              "    </button>\n",
              "    <script>\n",
              "      (() => {\n",
              "      const buttonEl =\n",
              "        document.querySelector('#id_a8c2cc87-0640-4928-a0ee-d7d365b5f432 button.colab-df-generate');\n",
              "      buttonEl.style.display =\n",
              "        google.colab.kernel.accessAllowed ? 'block' : 'none';\n",
              "\n",
              "      buttonEl.onclick = () => {\n",
              "        google.colab.notebook.generateWithVariable('df_banks');\n",
              "      }\n",
              "      })();\n",
              "    </script>\n",
              "  </div>\n",
              "\n",
              "    </div>\n",
              "  </div>\n"
            ],
            "application/vnd.google.colaboratory.intrinsic+json": {
              "type": "dataframe",
              "variable_name": "df_banks",
              "summary": "{\n  \"name\": \"df_banks\",\n  \"rows\": 10,\n  \"fields\": [\n    {\n      \"column\": \"Rank\",\n      \"properties\": {\n        \"dtype\": \"number\",\n        \"std\": 3,\n        \"min\": 1,\n        \"max\": 10,\n        \"num_unique_values\": 10,\n        \"samples\": [\n          9,\n          2,\n          6\n        ],\n        \"semantic_type\": \"\",\n        \"description\": \"\"\n      }\n    },\n    {\n      \"column\": \"Bank Name\",\n      \"properties\": {\n        \"dtype\": \"string\",\n        \"num_unique_values\": 10,\n        \"samples\": [\n          \"China Construction Bank\",\n          \"Bank of America\",\n          \"Wells Fargo\"\n        ],\n        \"semantic_type\": \"\",\n        \"description\": \"\"\n      }\n    },\n    {\n      \"column\": \"Market Cap\",\n      \"properties\": {\n        \"dtype\": \"number\",\n        \"std\": 90.22393249884178,\n        \"min\": 136.81,\n        \"max\": 432.92,\n        \"num_unique_values\": 10,\n        \"samples\": [\n          139.82,\n          231.52,\n          155.87\n        ],\n        \"semantic_type\": \"\",\n        \"description\": \"\"\n      }\n    },\n    {\n      \"column\": \"MC_GBP_Billion\",\n      \"properties\": {\n        \"dtype\": \"number\",\n        \"std\": 72.18032004023749,\n        \"min\": 109.45,\n        \"max\": 346.34,\n        \"num_unique_values\": 10,\n        \"samples\": [\n          111.86,\n          185.22,\n          124.7\n        ],\n        \"semantic_type\": \"\",\n        \"description\": \"\"\n      }\n    },\n    {\n      \"column\": \"MC_EUR_Billion\",\n      \"properties\": {\n        \"dtype\": \"number\",\n        \"std\": 83.90962758296043,\n        \"min\": 127.23,\n        \"max\": 402.62,\n        \"num_unique_values\": 10,\n        \"samples\": [\n          130.03,\n          215.31,\n          144.96\n        ],\n        \"semantic_type\": \"\",\n        \"description\": \"\"\n      }\n    },\n    {\n      \"column\": \"MC_INR_Billion\",\n      \"properties\": {\n        \"dtype\": \"number\",\n        \"std\": 7484.073236257631,\n        \"min\": 11348.39,\n        \"max\": 35910.71,\n        \"num_unique_values\": 10,\n        \"samples\": [\n          11598.07,\n          19204.58,\n          12929.42\n        ],\n        \"semantic_type\": \"\",\n        \"description\": \"\"\n      }\n    }\n  ]\n}"
            }
          },
          "metadata": {},
          "execution_count": 7
        }
      ]
    },
    {
      "cell_type": "markdown",
      "source": [
        "## Task 4: Loading to CSV"
      ],
      "metadata": {
        "id": "rH2HU2T7KR80"
      }
    },
    {
      "cell_type": "code",
      "source": [
        "import pandas as pd\n",
        "import datetime\n",
        "\n",
        "# Define the log function\n",
        "def log_progress(message):\n",
        "    with open(\"code_log.txt\", \"a\") as log_file:\n",
        "        time_stamp = datetime.datetime.now().strftime(\"%Y-%m-%d %H:%M:%S\")\n",
        "        log_file.write(f\"{time_stamp} : {message}\\n\")\n",
        "\n",
        "# Define the function to load data to a CSV file\n",
        "def load_to_csv(df, file_path):\n",
        "    # Save DataFrame to CSV\n",
        "    df.to_csv(file_path, index=False)\n",
        "    # Log progress\n",
        "    log_progress(\"Data saved to CSV file\")\n",
        "\n",
        "# Example usage\n",
        "file_path = '/content/transformed_data.csv'  # You can replace this with the required path\n",
        "load_to_csv(df_transformed, file_path)  # Assuming df_transformed is your DataFrame from transform()\n"
      ],
      "metadata": {
        "id": "rz_TxUwV__Ft"
      },
      "execution_count": 8,
      "outputs": []
    },
    {
      "cell_type": "code",
      "source": [
        "print(f\"CSV file saved at: {file_path}\")\n"
      ],
      "metadata": {
        "colab": {
          "base_uri": "https://localhost:8080/"
        },
        "id": "iKPSsmw1BsE0",
        "outputId": "f4c61aed-b2fa-4430-edba-86163bac076a"
      },
      "execution_count": 9,
      "outputs": [
        {
          "output_type": "stream",
          "name": "stdout",
          "text": [
            "CSV file saved at: /content/transformed_data.csv\n"
          ]
        }
      ]
    },
    {
      "cell_type": "markdown",
      "source": [
        "## Task 5: Loading to Database"
      ],
      "metadata": {
        "id": "nABGPdPKKMKu"
      }
    },
    {
      "cell_type": "code",
      "source": [
        "import sqlite3\n",
        "import pandas as pd\n",
        "import datetime\n",
        "\n",
        "# Define the log function\n",
        "def log_progress(message):\n",
        "    with open(\"code_log.txt\", \"a\") as log_file:\n",
        "        time_stamp = datetime.datetime.now().strftime(\"%Y-%m-%d %H:%M:%S\")\n",
        "        log_file.write(f\"{time_stamp} : {message}\\n\")\n",
        "\n",
        "# Define the function to load data to a database\n",
        "def load_to_db(df, db_connection, table_name):\n",
        "    # Load the DataFrame to the database table\n",
        "    df.to_sql(table_name, db_connection, if_exists='replace', index=False)\n",
        "    # Log progress\n",
        "    log_progress(\"Data loaded to Database as a table, Executing queries\")\n",
        "\n",
        "# Example usage\n",
        "db_name = 'Banks.db'\n",
        "table_name = 'Largest_banks'\n",
        "\n",
        "# Initiate SQLite connection\n",
        "connection = sqlite3.connect(db_name)\n",
        "log_progress(\"SQL Connection initiated\")\n",
        "\n",
        "# Call the load_to_db function\n",
        "load_to_db(df_transformed, connection, table_name)  # Assuming df_transformed is your transformed DataFrame\n",
        "\n",
        "# Close the connection\n",
        "connection.close()\n",
        "log_progress(\"Server Connection closed\")\n"
      ],
      "metadata": {
        "id": "quUAyAyYDXMn"
      },
      "execution_count": 10,
      "outputs": []
    },
    {
      "cell_type": "markdown",
      "source": [
        "## Task 6: Function to Run queries on Database"
      ],
      "metadata": {
        "id": "niDgv5c2KEV8"
      }
    },
    {
      "cell_type": "code",
      "source": [
        "import sqlite3\n",
        "import datetime\n",
        "\n",
        "# Define the log function\n",
        "def log_progress(message):\n",
        "    with open(\"code_log.txt\", \"a\") as log_file:\n",
        "        time_stamp = datetime.datetime.now().strftime(\"%Y-%m-%d %H:%M:%S\")\n",
        "        log_file.write(f\"{time_stamp} : {message}\\n\")\n",
        "\n",
        "# Define the function to execute queries\n",
        "def run_queries(query, db_connection):\n",
        "    print(f\"Executing Query: {query}\")\n",
        "    cursor = db_connection.cursor()\n",
        "    cursor.execute(query)\n",
        "\n",
        "    # Fetch and print results for SELECT queries\n",
        "    results = cursor.fetchall()\n",
        "    for row in results:\n",
        "        print(row)\n",
        "\n",
        "    # Log progress\n",
        "    log_progress(\"Process Complete\")\n",
        "\n",
        "# Example usage\n",
        "db_name = 'Banks.db'\n",
        "connection = sqlite3.connect(db_name)\n",
        "log_progress(\"SQL Connection initiated\")\n",
        "\n",
        "# 1. Print the contents of the entire table\n",
        "print(\"\\nContents of the Entire Table:\")\n",
        "run_queries(\"SELECT * FROM Largest_banks\", connection)\n",
        "\n",
        "# 2. Print the average market capitalization of all the banks in Billion USD\n",
        "print(\"\\nAverage Market Capitalization in GBP:\")\n",
        "run_queries(\"SELECT AVG(MC_GBP_Billion) FROM Largest_banks\", connection)\n",
        "\n",
        "# 3. Print only the names of the top 5 banks\n",
        "print(\"\\nTop 5 Banks by Name:\")\n",
        "run_queries('SELECT \"Bank Name\" from Largest_banks LIMIT 5', connection)\n"
      ],
      "metadata": {
        "colab": {
          "base_uri": "https://localhost:8080/"
        },
        "id": "CZO1T3RYFh3i",
        "outputId": "f9b894f1-cc31-4a95-958f-4fa48402f724"
      },
      "execution_count": 11,
      "outputs": [
        {
          "output_type": "stream",
          "name": "stdout",
          "text": [
            "\n",
            "Contents of the Entire Table:\n",
            "Executing Query: SELECT * FROM Largest_banks\n",
            "(1, 'JPMorgan Chase', 432.92, 346.34, 402.62, 35910.71)\n",
            "(2, 'Bank of America', 231.52, 185.22, 215.31, 19204.58)\n",
            "(3, 'Industrial and Commercial Bank of China', 194.56, 155.65, 180.94, 16138.75)\n",
            "(4, 'Agricultural Bank of China', 160.68, 128.54, 149.43, 13328.41)\n",
            "(5, 'HDFC Bank', 157.91, 126.33, 146.86, 13098.63)\n",
            "(6, 'Wells Fargo', 155.87, 124.7, 144.96, 12929.42)\n",
            "(7, 'HSBC Holdings PLC', 148.9, 119.12, 138.48, 12351.26)\n",
            "(8, 'Morgan Stanley', 140.83, 112.66, 130.97, 11681.85)\n",
            "(9, 'China Construction Bank', 139.82, 111.86, 130.03, 11598.07)\n",
            "(10, 'Bank of China', 136.81, 109.45, 127.23, 11348.39)\n",
            "\n",
            "Average Market Capitalization in GBP:\n",
            "Executing Query: SELECT AVG(MC_GBP_Billion) FROM Largest_banks\n",
            "(151.98700000000002,)\n",
            "\n",
            "Top 5 Banks by Name:\n",
            "Executing Query: SELECT \"Bank Name\" from Largest_banks LIMIT 5\n",
            "('JPMorgan Chase',)\n",
            "('Bank of America',)\n",
            "('Industrial and Commercial Bank of China',)\n",
            "('Agricultural Bank of China',)\n",
            "('HDFC Bank',)\n"
          ]
        }
      ]
    },
    {
      "cell_type": "code",
      "source": [
        "# Define function to check column names\n",
        "def check_columns(db_connection):\n",
        "    cursor = db_connection.cursor()\n",
        "    cursor.execute(\"PRAGMA table_info(Largest_banks)\")\n",
        "    columns = cursor.fetchall()\n",
        "    print(\"Column Names in Largest_banks Table:\")\n",
        "    for col in columns:\n",
        "        print(col)\n",
        "\n",
        "# Check the column names in the Largest_banks table\n",
        "check_columns(connection)\n"
      ],
      "metadata": {
        "colab": {
          "base_uri": "https://localhost:8080/"
        },
        "id": "KXDMzSZIFh7I",
        "outputId": "8de89493-1b68-441f-bdd6-125f2af44a49"
      },
      "execution_count": 12,
      "outputs": [
        {
          "output_type": "stream",
          "name": "stdout",
          "text": [
            "Column Names in Largest_banks Table:\n",
            "(0, 'Rank', 'INTEGER', 0, None, 0)\n",
            "(1, 'Bank Name', 'TEXT', 0, None, 0)\n",
            "(2, 'Market Cap', 'REAL', 0, None, 0)\n",
            "(3, 'MC_GBP_Billion', 'REAL', 0, None, 0)\n",
            "(4, 'MC_EUR_Billion', 'REAL', 0, None, 0)\n",
            "(5, 'MC_INR_Billion', 'REAL', 0, None, 0)\n"
          ]
        }
      ]
    },
    {
      "cell_type": "code",
      "source": [
        "# Close the connection\n",
        "connection.close()\n",
        "log_progress(\"Server Connection closed\")\n"
      ],
      "metadata": {
        "id": "b9b21GIKcUWo"
      },
      "execution_count": 13,
      "outputs": []
    },
    {
      "cell_type": "markdown",
      "source": [
        "## Task 7: Verify log entries"
      ],
      "metadata": {
        "id": "F6TCr3P9JwRw"
      }
    },
    {
      "cell_type": "code",
      "source": [
        "# Define a function to read the log file\n",
        "def read_log_file(file_path):\n",
        "    try:\n",
        "        with open(file_path, 'r') as log_file:\n",
        "            log_contents = log_file.readlines()\n",
        "            for line in log_contents:\n",
        "                print(line.strip())\n",
        "    except FileNotFoundError:\n",
        "        print(\"The log file does not exist.\")\n",
        "    except Exception as e:\n",
        "        print(f\"An error occurred: {e}\")\n",
        "\n",
        "# Example usage\n",
        "log_file_path = \"code_log.txt\"  # Replace with the correct path if necessary\n",
        "read_log_file(log_file_path)\n"
      ],
      "metadata": {
        "colab": {
          "base_uri": "https://localhost:8080/"
        },
        "id": "89fgaM-VH-Qg",
        "outputId": "359287a3-0403-4606-d1e9-182a6f5fcf03"
      },
      "execution_count": 14,
      "outputs": [
        {
          "output_type": "stream",
          "name": "stdout",
          "text": [
            "2024-10-16 11:59:02 : Preliminaries complete. Initiating ETL process\n",
            "2024-10-16 11:59:04 : Data extraction complete. Initiating Transformation process\n",
            "2024-10-16 11:59:04 : Data transformation complete. Initiating Loading process\n",
            "2024-10-16 11:59:04 : Data saved to CSV file\n",
            "2024-10-16 11:59:04 : SQL Connection initiated\n",
            "2024-10-16 11:59:04 : Data loaded to Database as a table, Executing queries\n",
            "2024-10-16 11:59:04 : Server Connection closed\n",
            "2024-10-16 11:59:04 : SQL Connection initiated\n",
            "2024-10-16 11:59:04 : Process Complete\n",
            "2024-10-16 11:59:04 : Process Complete\n",
            "2024-10-16 11:59:04 : Process Complete\n",
            "2024-10-16 11:59:04 : Server Connection closed\n",
            "2024-10-16 12:08:59 : Preliminaries complete. Initiating ETL process\n",
            "2024-10-16 12:09:00 : Data extraction complete. Initiating Transformation process\n",
            "2024-10-16 12:09:00 : Data transformation complete. Initiating Loading process\n",
            "2024-10-16 12:09:01 : Data saved to CSV file\n",
            "2024-10-16 12:09:01 : SQL Connection initiated\n",
            "2024-10-16 12:09:01 : Data loaded to Database as a table, Executing queries\n",
            "2024-10-16 12:09:01 : Server Connection closed\n",
            "2024-10-16 12:09:01 : SQL Connection initiated\n",
            "2024-10-16 12:09:01 : Process Complete\n",
            "2024-10-16 12:09:01 : Process Complete\n",
            "2024-10-16 12:09:01 : Process Complete\n",
            "2024-10-16 12:09:01 : Server Connection closed\n"
          ]
        }
      ]
    },
    {
      "cell_type": "code",
      "source": [],
      "metadata": {
        "id": "p6vqgYeyJdYt"
      },
      "execution_count": 14,
      "outputs": []
    }
  ]
}